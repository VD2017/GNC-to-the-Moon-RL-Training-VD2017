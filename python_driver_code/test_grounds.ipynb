{
 "cells": [
  {
   "cell_type": "code",
   "execution_count": 1,
   "id": "359957fb",
   "metadata": {},
   "outputs": [
    {
     "name": "stdout",
     "output_type": "stream",
     "text": [
      "0\n",
      "cuda\n"
     ]
    }
   ],
   "source": [
    "import torch \n",
    "\n",
    "print(torch.cuda.device_count())\n",
    "print(torch.device('cuda'))\n"
   ]
  },
  {
   "cell_type": "code",
   "execution_count": 2,
   "id": "dc93c55b",
   "metadata": {},
   "outputs": [
    {
     "name": "stdout",
     "output_type": "stream",
     "text": [
      "{'avg_reward': -0.3, 'win_rate': 0.33, 'draw_rate': 0.04, 'loss_rate': 0.63}\n",
      "{'avg_reward': -0.23, 'win_rate': 0.35, 'draw_rate': 0.07, 'loss_rate': 0.58}\n"
     ]
    }
   ],
   "source": [
    "# Testing Blackjack agent by\n",
    "import gymnasium as gym\n",
    "from blackjack_agent_package import blackjack_agent_class as BJA\n",
    "from blackjack_agent_package import Q_value_table_class as QVT\n",
    "\n",
    "# hyperparameters\n",
    "learning_rate = 0.01\n",
    "n_episodes = 1000\n",
    "start_epsilon = 1.0\n",
    "epsilon_decay = start_epsilon / (n_episodes / 2)  # reduce the exploration over time\n",
    "final_epsilon = 0.1\n",
    "\n",
    "env = gym.make(\"Blackjack-v1\", sab=False)\n",
    "# env = gym.wrappers.RecordEpisodeStatistics(env, buffer_length=n_episodes)\n",
    "\n",
    "Q_value_table = QVT.QValueTable(env,learning_rate )\n",
    "agent_1 = BJA.BlackjackAgent(env, Q_value_table)\n",
    "agent_2 = BJA.BlackjackAgent(env, Q_value_table)\n",
    "\n",
    "experiences, rewards = agent_1.collect_experience(10)\n",
    "# evalution = agent_1.evaluate(100)\n",
    "\n",
    "# print(evalution)\n",
    "Q_value_table.update(experiences)\n",
    "\n",
    "\n",
    "evalution = agent_2.evaluate(100)\n",
    "print(evalution)\n",
    "evalution = agent_1.evaluate(100)\n",
    "print(evalution)\n",
    "\n",
    "\n",
    "\n",
    "\n"
   ]
  },
  {
   "cell_type": "code",
   "execution_count": 3,
   "id": "fdeee18a",
   "metadata": {},
   "outputs": [
    {
     "name": "stdout",
     "output_type": "stream",
     "text": [
      "{1: ('exp', 'reward'), 2: ('exp', 'reward')}\n",
      "exp\n",
      "exp\n"
     ]
    }
   ],
   "source": [
    "# testing nested dict structure\n",
    "'''outputs_of_processes := dict contained as \n",
    "    #<process_id: end_results_of_episodes_of_that_process>\n",
    "        # <end_results_of_episodes_of_that_process : episode>\n",
    "            # <episode: SAR outputs ~(experience, reward), ...>\n",
    "                # episode: (experience, reward)\n",
    "# '''\n",
    "test_dict ={\n",
    "    \"PID 1\": {\n",
    "        1 :\n",
    "        (\"exp\", \"reward\"),\n",
    "        2 :\n",
    "        (\"exp\", \"reward\")\n",
    "    }\n",
    "}\n",
    "for proc_out in test_dict.values():\n",
    "    print(proc_out)\n",
    "    for episode in proc_out.values():\n",
    "        # for result in episode:\n",
    "        print(episode[0])\n",
    "\n",
    "\n"
   ]
  },
  {
   "cell_type": "code",
   "execution_count": null,
   "id": "def13b87",
   "metadata": {},
   "outputs": [],
   "source": []
  }
 ],
 "metadata": {
  "kernelspec": {
   "display_name": "GNC_Project_Env",
   "language": "python",
   "name": "python3"
  },
  "language_info": {
   "codemirror_mode": {
    "name": "ipython",
    "version": 3
   },
   "file_extension": ".py",
   "mimetype": "text/x-python",
   "name": "python",
   "nbconvert_exporter": "python",
   "pygments_lexer": "ipython3",
   "version": "3.9.16"
  }
 },
 "nbformat": 4,
 "nbformat_minor": 5
}
